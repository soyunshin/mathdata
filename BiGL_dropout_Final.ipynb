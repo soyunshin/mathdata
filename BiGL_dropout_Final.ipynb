{
  "nbformat": 4,
  "nbformat_minor": 0,
  "metadata": {
    "colab": {
      "name": "BiGL_dropout_Final.ipynb",
      "provenance": [],
      "collapsed_sections": [],
      "toc_visible": true
    },
    "kernelspec": {
      "name": "python3",
      "display_name": "Python 3"
    },
    "accelerator": "GPU"
  },
  "cells": [
    {
      "cell_type": "code",
      "metadata": {
        "id": "pc3TfwQ7PZhb",
        "colab_type": "code",
        "outputId": "3ffd97fc-c8d7-40be-b9ea-ff6a5c7e10f0",
        "colab": {
          "base_uri": "https://localhost:8080/",
          "height": 102
        }
      },
      "source": [
        "import pandas as pd\n",
        "import re\n",
        "import os\n",
        "import time\n",
        "import random\n",
        "import numpy as np\n",
        "\n",
        "try:\n",
        "  %tensorflow_version 2.x # enable TF 2.x in Colab\n",
        "except Exception:\n",
        "  pass\n",
        "\n",
        "import tensorflow as tf\n",
        "import matplotlib.pyplot as plt\n",
        "import matplotlib.ticker as ticker\n",
        "from sklearn.model_selection import train_test_split\n",
        "from google.colab import drive\n",
        "import pickle\n",
        "\n",
        "import spacy\n",
        "\n",
        "nlp = spacy.load(\"en_core_web_sm\")\n",
        "from nltk.translate.bleu_score import corpus_bleu"
      ],
      "execution_count": 0,
      "outputs": [
        {
          "output_type": "stream",
          "text": [
            "`%tensorflow_version` only switches the major version: `1.x` or `2.x`.\n",
            "You set: `2.x # enable TF 2.x in Colab`. This will be interpreted as: `2.x`.\n",
            "\n",
            "\n",
            "TensorFlow is already loaded. Please restart the runtime to change versions.\n"
          ],
          "name": "stdout"
        }
      ]
    },
    {
      "cell_type": "code",
      "metadata": {
        "id": "JnCgKUrrPjQs",
        "colab_type": "code",
        "outputId": "4776ff4d-5ed1-4330-d267-e3ba4df89946",
        "colab": {
          "base_uri": "https://localhost:8080/",
          "height": 34
        }
      },
      "source": [
        "tf.__version__"
      ],
      "execution_count": 0,
      "outputs": [
        {
          "output_type": "execute_result",
          "data": {
            "text/plain": [
              "'2.1.0-rc1'"
            ]
          },
          "metadata": {
            "tags": []
          },
          "execution_count": 119
        }
      ]
    },
    {
      "cell_type": "code",
      "metadata": {
        "id": "4u2YzspHkstP",
        "colab_type": "code",
        "outputId": "141360a7-8a03-4ffa-af4d-4d1c23e455f2",
        "colab": {
          "base_uri": "https://localhost:8080/",
          "height": 34
        }
      },
      "source": [
        "# Mount drive\n",
        "drive.mount('/gdrive')\n",
        "drive_root = '/gdrive/My Drive/'"
      ],
      "execution_count": 0,
      "outputs": [
        {
          "output_type": "stream",
          "text": [
            "Drive already mounted at /gdrive; to attempt to forcibly remount, call drive.mount(\"/gdrive\", force_remount=True).\n"
          ],
          "name": "stdout"
        }
      ]
    },
    {
      "cell_type": "markdown",
      "metadata": {
        "colab_type": "text",
        "id": "wNVhL5BxZZsh"
      },
      "source": [
        "### Creating the dataset of word problems\n",
        "\n",
        "*Please add the correct path to load the data file*"
      ]
    },
    {
      "cell_type": "code",
      "metadata": {
        "colab_type": "code",
        "id": "ZhTdlS9DZY3W",
        "colab": {}
      },
      "source": [
        "with open('data_final.pkl', 'rb') as f:\n",
        "  df = pickle.load(f)"
      ],
      "execution_count": 0,
      "outputs": []
    },
    {
      "cell_type": "code",
      "metadata": {
        "colab_type": "code",
        "id": "dD1ge883ZYMh",
        "outputId": "2ea73005-0a29-48b7-8b33-9e46088608c0",
        "colab": {
          "base_uri": "https://localhost:8080/",
          "height": 34
        }
      },
      "source": [
        "df.shape"
      ],
      "execution_count": 0,
      "outputs": [
        {
          "output_type": "execute_result",
          "data": {
            "text/plain": [
              "(38144, 2)"
            ]
          },
          "metadata": {
            "tags": []
          },
          "execution_count": 122
        }
      ]
    },
    {
      "cell_type": "code",
      "metadata": {
        "colab_type": "code",
        "outputId": "b3578c3d-3da7-4f62-c9ee-f473ce113025",
        "id": "mIc3Bv2KZW6-",
        "colab": {
          "base_uri": "https://localhost:8080/",
          "height": 204
        }
      },
      "source": [
        "df.head()"
      ],
      "execution_count": 0,
      "outputs": [
        {
          "output_type": "execute_result",
          "data": {
            "text/html": [
              "<div>\n",
              "<style scoped>\n",
              "    .dataframe tbody tr th:only-of-type {\n",
              "        vertical-align: middle;\n",
              "    }\n",
              "\n",
              "    .dataframe tbody tr th {\n",
              "        vertical-align: top;\n",
              "    }\n",
              "\n",
              "    .dataframe thead th {\n",
              "        text-align: right;\n",
              "    }\n",
              "</style>\n",
              "<table border=\"1\" class=\"dataframe\">\n",
              "  <thead>\n",
              "    <tr style=\"text-align: right;\">\n",
              "      <th></th>\n",
              "      <th>Question</th>\n",
              "      <th>Equation</th>\n",
              "    </tr>\n",
              "  </thead>\n",
              "  <tbody>\n",
              "    <tr>\n",
              "      <th>963</th>\n",
              "      <td>A painter needed to paint 12 rooms in a build...</td>\n",
              "      <td>X=(7.0*(12.0-5.0))</td>\n",
              "    </tr>\n",
              "    <tr>\n",
              "      <th>3897</th>\n",
              "      <td>Brenda had 253 raspberry. John gripped some ra...</td>\n",
              "      <td>X = 253 - 66</td>\n",
              "    </tr>\n",
              "    <tr>\n",
              "      <th>27626</th>\n",
              "      <td>Casey wants to share some Bread among 17 frien...</td>\n",
              "      <td>X = 39 * 17</td>\n",
              "    </tr>\n",
              "    <tr>\n",
              "      <th>32530</th>\n",
              "      <td>Liza had 34 Press. Thomas furnished him some m...</td>\n",
              "      <td>X = 64 - 34</td>\n",
              "    </tr>\n",
              "    <tr>\n",
              "      <th>16266</th>\n",
              "      <td>George wants to distribute 125 mangos among 25...</td>\n",
              "      <td>X = 125 / 25</td>\n",
              "    </tr>\n",
              "  </tbody>\n",
              "</table>\n",
              "</div>"
            ],
            "text/plain": [
              "                                                Question            Equation\n",
              "963     A painter needed to paint 12 rooms in a build...  X=(7.0*(12.0-5.0))\n",
              "3897   Brenda had 253 raspberry. John gripped some ra...        X = 253 - 66\n",
              "27626  Casey wants to share some Bread among 17 frien...         X = 39 * 17\n",
              "32530  Liza had 34 Press. Thomas furnished him some m...         X = 64 - 34\n",
              "16266  George wants to distribute 125 mangos among 25...        X = 125 / 25"
            ]
          },
          "metadata": {
            "tags": []
          },
          "execution_count": 123
        }
      ]
    },
    {
      "cell_type": "code",
      "metadata": {
        "id": "lRqrupoGHK4B",
        "colab_type": "code",
        "colab": {}
      },
      "source": [
        "def convert_eqn(eqn):\n",
        "  '''\n",
        "  Add a space between every character in the equation string.\n",
        "  Eg: 'x = 23 + 88' becomes 'x =  2 3 + 8 8'\n",
        "  '''\n",
        "  elements = list(eqn)\n",
        "  return ' '.join(elements)"
      ],
      "execution_count": 0,
      "outputs": []
    },
    {
      "cell_type": "code",
      "metadata": {
        "id": "52CngavAg1PM",
        "colab_type": "code",
        "colab": {}
      },
      "source": [
        "input_exps = list(df['Question'].values)"
      ],
      "execution_count": 0,
      "outputs": []
    },
    {
      "cell_type": "code",
      "metadata": {
        "id": "5BP-L86thNKh",
        "colab_type": "code",
        "colab": {}
      },
      "source": [
        "target_exps = list(df['Equation'].apply(lambda x: convert_eqn(x)).values)"
      ],
      "execution_count": 0,
      "outputs": []
    },
    {
      "cell_type": "code",
      "metadata": {
        "id": "GTRQklLBp-YC",
        "colab_type": "code",
        "outputId": "b605d2ae-5547-4399-b5fb-8ceb91f768fe",
        "colab": {
          "base_uri": "https://localhost:8080/",
          "height": 122
        }
      },
      "source": [
        "# Input: Word Problem\n",
        "input_exps[:5]"
      ],
      "execution_count": 0,
      "outputs": [
        {
          "output_type": "execute_result",
          "data": {
            "text/plain": [
              "[' A painter needed to paint 12 rooms in a building. Each room takes 7 hours to paint. If he already painted 5 rooms, how much longer will he take to paint the rest? ',\n",
              " 'Brenda had 253 raspberry. John gripped some raspberry. Now Brenda has 66  raspberry. How many did John grippeds?',\n",
              " 'Casey wants to share some Bread among 17 friends.If each friend get 39 Bread, then how many Bread john would have?',\n",
              " 'Liza had 34 Press. Thomas furnished him some more. Now Liza has 64 Press. How many did Thomas furnish him?',\n",
              " 'George wants to distribute 125 mangos among 25 friends. How many would each friend acquire?']"
            ]
          },
          "metadata": {
            "tags": []
          },
          "execution_count": 127
        }
      ]
    },
    {
      "cell_type": "code",
      "metadata": {
        "id": "O9DL8tD-6iP9",
        "colab_type": "code",
        "outputId": "d1147d81-29c3-46c6-d08c-0846aa532ddc",
        "colab": {
          "base_uri": "https://localhost:8080/",
          "height": 102
        }
      },
      "source": [
        "# Target: Equation\n",
        "target_exps[:5]"
      ],
      "execution_count": 0,
      "outputs": [
        {
          "output_type": "execute_result",
          "data": {
            "text/plain": [
              "['X = ( 7 . 0 * ( 1 2 . 0 - 5 . 0 ) )',\n",
              " 'X   =   2 5 3   -   6 6',\n",
              " 'X   =   3 9   *   1 7',\n",
              " 'X   =   6 4   -   3 4',\n",
              " 'X   =   1 2 5   /   2 5']"
            ]
          },
          "metadata": {
            "tags": []
          },
          "execution_count": 128
        }
      ]
    },
    {
      "cell_type": "code",
      "metadata": {
        "id": "v_MAlVH39Mlh",
        "colab_type": "code",
        "outputId": "a92ae4fd-176f-48c7-f08a-3c2c1f6f57be",
        "colab": {
          "base_uri": "https://localhost:8080/",
          "height": 34
        }
      },
      "source": [
        "len(pd.Series(input_exps)), len(pd.Series(input_exps).unique())"
      ],
      "execution_count": 0,
      "outputs": [
        {
          "output_type": "execute_result",
          "data": {
            "text/plain": [
              "(38144, 38144)"
            ]
          },
          "metadata": {
            "tags": []
          },
          "execution_count": 129
        }
      ]
    },
    {
      "cell_type": "code",
      "metadata": {
        "id": "VL3-dcn8YMe3",
        "colab_type": "code",
        "outputId": "fae4d8c8-0df2-4a7d-c290-e8b36b743a06",
        "colab": {
          "base_uri": "https://localhost:8080/",
          "height": 34
        }
      },
      "source": [
        "len(pd.Series(target_exps)), len(pd.Series(target_exps).unique())"
      ],
      "execution_count": 0,
      "outputs": [
        {
          "output_type": "execute_result",
          "data": {
            "text/plain": [
              "(38144, 23603)"
            ]
          },
          "metadata": {
            "tags": []
          },
          "execution_count": 130
        }
      ]
    },
    {
      "cell_type": "markdown",
      "metadata": {
        "id": "p-0vtG7rdZdy",
        "colab_type": "text"
      },
      "source": [
        "### Preprocessing and Tokenizing the Input and Target exps"
      ]
    },
    {
      "cell_type": "code",
      "metadata": {
        "id": "8yx7HUtFYZri",
        "colab_type": "code",
        "colab": {}
      },
      "source": [
        "def preprocess_input(sentence):\n",
        "  '''\n",
        "  For the word problem, convert everything to lowercase, add spaces around all\n",
        "  punctuations and digits, and remove any extra spaces. \n",
        "  '''\n",
        "  sentence = sentence.lower().strip()\n",
        "  sentence = re.sub(r\"([?.!,’])\", r\" \\1 \", sentence)\n",
        "  sentence = re.sub(r\"([0-9])\", r\" \\1 \", sentence)\n",
        "  sentence = re.sub(r'[\" \"]+', \" \", sentence)\n",
        "  sentence = sentence.rstrip().strip()\n",
        "  return '<start> ' + sentence + ' <end>'"
      ],
      "execution_count": 0,
      "outputs": []
    },
    {
      "cell_type": "code",
      "metadata": {
        "id": "IfyWFYbo-Fkt",
        "colab_type": "code",
        "colab": {}
      },
      "source": [
        "def preprocess_target(sentence):\n",
        "  '''\n",
        "  For the equation, convert it to lowercase and remove extra spaces\n",
        "  '''\n",
        "  sentence = sentence.lower().strip()\n",
        "  return '<start> ' + sentence + ' <end>'"
      ],
      "execution_count": 0,
      "outputs": []
    },
    {
      "cell_type": "code",
      "metadata": {
        "id": "lEAS9242ZUT6",
        "colab_type": "code",
        "colab": {}
      },
      "source": [
        "preprocessed_input_exps = list(map(preprocess_input, input_exps))\n",
        "preprocessed_target_exps = list(map(preprocess_target, target_exps))"
      ],
      "execution_count": 0,
      "outputs": []
    },
    {
      "cell_type": "code",
      "metadata": {
        "id": "sy-bGm81a8yl",
        "colab_type": "code",
        "outputId": "732c4c9f-ba4d-40cd-9ca8-ec0b87b47cff",
        "colab": {
          "base_uri": "https://localhost:8080/",
          "height": 122
        }
      },
      "source": [
        "preprocessed_input_exps[:5]"
      ],
      "execution_count": 0,
      "outputs": [
        {
          "output_type": "execute_result",
          "data": {
            "text/plain": [
              "['<start> a painter needed to paint 1 2 rooms in a building . each room takes 7 hours to paint . if he already painted 5 rooms , how much longer will he take to paint the rest ? <end>',\n",
              " '<start> brenda had 2 5 3 raspberry . john gripped some raspberry . now brenda has 6 6 raspberry . how many did john grippeds ? <end>',\n",
              " '<start> casey wants to share some bread among 1 7 friends . if each friend get 3 9 bread , then how many bread john would have ? <end>',\n",
              " '<start> liza had 3 4 press . thomas furnished him some more . now liza has 6 4 press . how many did thomas furnish him ? <end>',\n",
              " '<start> george wants to distribute 1 2 5 mangos among 2 5 friends . how many would each friend acquire ? <end>']"
            ]
          },
          "metadata": {
            "tags": []
          },
          "execution_count": 134
        }
      ]
    },
    {
      "cell_type": "code",
      "metadata": {
        "id": "g15oK28mbA89",
        "colab_type": "code",
        "outputId": "94deb926-dfa2-4fce-fa72-cb7c80e9ce04",
        "colab": {
          "base_uri": "https://localhost:8080/",
          "height": 102
        }
      },
      "source": [
        "preprocessed_target_exps[:5]"
      ],
      "execution_count": 0,
      "outputs": [
        {
          "output_type": "execute_result",
          "data": {
            "text/plain": [
              "['<start> x = ( 7 . 0 * ( 1 2 . 0 - 5 . 0 ) ) <end>',\n",
              " '<start> x   =   2 5 3   -   6 6 <end>',\n",
              " '<start> x   =   3 9   *   1 7 <end>',\n",
              " '<start> x   =   6 4   -   3 4 <end>',\n",
              " '<start> x   =   1 2 5   /   2 5 <end>']"
            ]
          },
          "metadata": {
            "tags": []
          },
          "execution_count": 135
        }
      ]
    },
    {
      "cell_type": "code",
      "metadata": {
        "id": "aKhkEBsfbJaN",
        "colab_type": "code",
        "colab": {}
      },
      "source": [
        "def tokenize(lang):\n",
        "  '''\n",
        "  Tokenize the given list of strings and return the tokenized output\n",
        "  along with the fitted tokenizer.\n",
        "  '''\n",
        "  lang_tokenizer = tf.keras.preprocessing.text.Tokenizer(filters='')\n",
        "  lang_tokenizer.fit_on_texts(lang)\n",
        "  tensor = lang_tokenizer.texts_to_sequences(lang)\n",
        "  tensor = tf.keras.preprocessing.sequence.pad_sequences(tensor, padding='post')\n",
        "\n",
        "  return tensor, lang_tokenizer"
      ],
      "execution_count": 0,
      "outputs": []
    },
    {
      "cell_type": "code",
      "metadata": {
        "id": "GL_eLZZAbsHJ",
        "colab_type": "code",
        "colab": {}
      },
      "source": [
        "input_tensor, inp_lang_tokenizer = tokenize(preprocessed_input_exps)"
      ],
      "execution_count": 0,
      "outputs": []
    },
    {
      "cell_type": "code",
      "metadata": {
        "id": "fI2k73bDceJ_",
        "colab_type": "code",
        "outputId": "fdd005fd-4c21-4ae3-bba2-e52f2a7eef67",
        "colab": {
          "base_uri": "https://localhost:8080/",
          "height": 34
        }
      },
      "source": [
        "len(inp_lang_tokenizer.word_index)"
      ],
      "execution_count": 0,
      "outputs": [
        {
          "output_type": "execute_result",
          "data": {
            "text/plain": [
              "5889"
            ]
          },
          "metadata": {
            "tags": []
          },
          "execution_count": 138
        }
      ]
    },
    {
      "cell_type": "code",
      "metadata": {
        "id": "ciyWH2a_b4gx",
        "colab_type": "code",
        "outputId": "be424842-579c-4946-9a68-f98a4ae7f83e",
        "colab": {
          "base_uri": "https://localhost:8080/",
          "height": 136
        }
      },
      "source": [
        "input_tensor"
      ],
      "execution_count": 0,
      "outputs": [
        {
          "output_type": "execute_result",
          "data": {
            "text/plain": [
              "array([[   3,  106, 2456, ...,    0,    0,    0],\n",
              "       [   3,  282,    8, ...,    0,    0,    0],\n",
              "       [   3,  813,   45, ...,    0,    0,    0],\n",
              "       ...,\n",
              "       [   3,  382,   14, ...,    0,    0,    0],\n",
              "       [   3,  169,    8, ...,    0,    0,    0],\n",
              "       [   3,  406,    8, ...,    0,    0,    0]], dtype=int32)"
            ]
          },
          "metadata": {
            "tags": []
          },
          "execution_count": 139
        }
      ]
    },
    {
      "cell_type": "code",
      "metadata": {
        "id": "sVIuwYu9b7fH",
        "colab_type": "code",
        "colab": {}
      },
      "source": [
        "target_tensor, targ_lang_tokenizer = tokenize(preprocessed_target_exps)"
      ],
      "execution_count": 0,
      "outputs": []
    },
    {
      "cell_type": "code",
      "metadata": {
        "id": "8bpeONmscRzr",
        "colab_type": "code",
        "outputId": "92ab5f8d-f310-4560-cb4a-ffe13608e558",
        "colab": {
          "base_uri": "https://localhost:8080/",
          "height": 34
        }
      },
      "source": [
        "len(targ_lang_tokenizer.word_index)"
      ],
      "execution_count": 0,
      "outputs": [
        {
          "output_type": "execute_result",
          "data": {
            "text/plain": [
              "47"
            ]
          },
          "metadata": {
            "tags": []
          },
          "execution_count": 141
        }
      ]
    },
    {
      "cell_type": "code",
      "metadata": {
        "id": "QkFWp965cHbt",
        "colab_type": "code",
        "outputId": "28232ee7-b4de-4885-f22e-7e79700a9655",
        "colab": {
          "base_uri": "https://localhost:8080/",
          "height": 136
        }
      },
      "source": [
        "target_tensor"
      ],
      "execution_count": 0,
      "outputs": [
        {
          "output_type": "execute_result",
          "data": {
            "text/plain": [
              "array([[2, 4, 1, ..., 0, 0, 0],\n",
              "       [2, 4, 1, ..., 0, 0, 0],\n",
              "       [2, 4, 1, ..., 0, 0, 0],\n",
              "       ...,\n",
              "       [2, 4, 1, ..., 0, 0, 0],\n",
              "       [2, 4, 1, ..., 0, 0, 0],\n",
              "       [2, 4, 1, ..., 0, 0, 0]], dtype=int32)"
            ]
          },
          "metadata": {
            "tags": []
          },
          "execution_count": 142
        }
      ]
    },
    {
      "cell_type": "markdown",
      "metadata": {
        "id": "lWKtDz1pdV11",
        "colab_type": "text"
      },
      "source": [
        "### Create a tf.data dataset"
      ]
    },
    {
      "cell_type": "code",
      "metadata": {
        "id": "LWn3alPwcIMw",
        "colab_type": "code",
        "colab": {}
      },
      "source": [
        "# Creating training and validation sets\n",
        "input_tensor_train, input_tensor_val, target_tensor_train, target_tensor_val = train_test_split(input_tensor,\n",
        "                                                                                                target_tensor,\n",
        "                                                                                                test_size=0.05,\n",
        "                                                                                                random_state=42)"
      ],
      "execution_count": 0,
      "outputs": []
    },
    {
      "cell_type": "code",
      "metadata": {
        "id": "JkvMMb7NUG1l",
        "colab_type": "code",
        "outputId": "2a3a43a3-cdaf-461a-96b3-aa07cb963da7",
        "colab": {
          "base_uri": "https://localhost:8080/",
          "height": 34
        }
      },
      "source": [
        "len(input_tensor_train)"
      ],
      "execution_count": 0,
      "outputs": [
        {
          "output_type": "execute_result",
          "data": {
            "text/plain": [
              "36236"
            ]
          },
          "metadata": {
            "tags": []
          },
          "execution_count": 144
        }
      ]
    },
    {
      "cell_type": "code",
      "metadata": {
        "id": "X8VnUqe9UE9P",
        "colab_type": "code",
        "outputId": "022dd3bc-1ad3-4e05-f985-104ef7553339",
        "colab": {
          "base_uri": "https://localhost:8080/",
          "height": 34
        }
      },
      "source": [
        "len(input_tensor_val)"
      ],
      "execution_count": 0,
      "outputs": [
        {
          "output_type": "execute_result",
          "data": {
            "text/plain": [
              "1908"
            ]
          },
          "metadata": {
            "tags": []
          },
          "execution_count": 145
        }
      ]
    },
    {
      "cell_type": "code",
      "metadata": {
        "id": "BFxzn930dDNs",
        "colab_type": "code",
        "colab": {}
      },
      "source": [
        "BUFFER_SIZE = len(input_tensor_train)\n",
        "BATCH_SIZE = 64\n",
        "steps_per_epoch = len(input_tensor_train)//BATCH_SIZE\n",
        "embedding_dim = 32\n",
        "units = 256\n",
        "vocab_inp_size = len(inp_lang_tokenizer.word_index)+1\n",
        "vocab_tar_size = len(targ_lang_tokenizer.word_index)+1\n",
        "dropout = 0.5\n",
        "dataset = tf.data.Dataset.from_tensor_slices((input_tensor_train, target_tensor_train)).shuffle(BUFFER_SIZE)\n",
        "dataset = dataset.batch(BATCH_SIZE, drop_remainder=True)"
      ],
      "execution_count": 0,
      "outputs": []
    },
    {
      "cell_type": "code",
      "metadata": {
        "id": "TpWhdlGQeQzB",
        "colab_type": "code",
        "outputId": "16a60232-c599-4284-ca01-effdcdc499c7",
        "colab": {
          "base_uri": "https://localhost:8080/",
          "height": 34
        }
      },
      "source": [
        "vocab_inp_size, vocab_tar_size"
      ],
      "execution_count": 0,
      "outputs": [
        {
          "output_type": "execute_result",
          "data": {
            "text/plain": [
              "(5890, 48)"
            ]
          },
          "metadata": {
            "tags": []
          },
          "execution_count": 147
        }
      ]
    },
    {
      "cell_type": "code",
      "metadata": {
        "id": "6BnLEanaeNOX",
        "colab_type": "code",
        "outputId": "ade4d6c2-9e43-458a-c246-38800cbd00ea",
        "colab": {
          "base_uri": "https://localhost:8080/",
          "height": 34
        }
      },
      "source": [
        "example_input_batch, example_target_batch = next(iter(dataset))\n",
        "example_input_batch.shape, example_target_batch.shape"
      ],
      "execution_count": 0,
      "outputs": [
        {
          "output_type": "execute_result",
          "data": {
            "text/plain": [
              "(TensorShape([64, 124]), TensorShape([64, 66]))"
            ]
          },
          "metadata": {
            "tags": []
          },
          "execution_count": 148
        }
      ]
    },
    {
      "cell_type": "markdown",
      "metadata": {
        "id": "CuneDtDufIAe",
        "colab_type": "text"
      },
      "source": [
        "### Encoder Decoder Model"
      ]
    },
    {
      "cell_type": "code",
      "metadata": {
        "id": "Pe6XY6NGewke",
        "colab_type": "code",
        "colab": {}
      },
      "source": [
        "class Encoder(tf.keras.Model):\n",
        "  def __init__(self, vocab_size, embedding_dim, enc_units, batch_sz, dropout):\n",
        "    super(Encoder, self).__init__()\n",
        "    self.batch_sz = batch_sz\n",
        "    \n",
        "    self.enc_units = enc_units\n",
        "    self.embedding = tf.keras.layers.Embedding(vocab_size, embedding_dim)\n",
        "    \n",
        "    # Bidirectional GRU Unit\n",
        "    self.gru = tf.keras.layers.Bidirectional(tf.keras.layers.GRU(self.enc_units,\n",
        "                                   return_sequences=True,\n",
        "                                   return_state=True,\n",
        "                                   recurrent_initializer='glorot_uniform',\n",
        "                                   dropout = dropout))\n",
        "\n",
        "  def call(self, x, hidden):\n",
        "    x = self.embedding(x)\n",
        "    output, state1, state2 = self.gru(x, initial_state = hidden)\n",
        "    state = [state1,state2]\n",
        "    return output, state\n",
        "\n",
        "  def initialize_hidden_state(self):\n",
        "    return [tf.zeros((self.batch_sz, self.enc_units)),tf.zeros((self.batch_sz, self.enc_units))]"
      ],
      "execution_count": 0,
      "outputs": []
    },
    {
      "cell_type": "code",
      "metadata": {
        "colab_type": "code",
        "id": "pporVET9K89d",
        "colab": {}
      },
      "source": [
        "encoder = Encoder(vocab_inp_size, embedding_dim, units, BATCH_SIZE, dropout)"
      ],
      "execution_count": 0,
      "outputs": []
    },
    {
      "cell_type": "code",
      "metadata": {
        "id": "WtrkdaXIkTaS",
        "colab_type": "code",
        "colab": {}
      },
      "source": [
        "class BahdanauAttention(tf.keras.layers.Layer):\n",
        "  def __init__(self, units):\n",
        "    super(BahdanauAttention, self).__init__()\n",
        "    self.W1 = tf.keras.layers.Dense(units)\n",
        "    self.W2 = tf.keras.layers.Dense(units)\n",
        "    self.V = tf.keras.layers.Dense(1)\n",
        "\n",
        "  def call(self, query, values):\n",
        "    \n",
        "    # we are doing this to perform addition to calculate the score\n",
        "    hidden_with_time_axis = tf.expand_dims(query, 1)\n",
        "\n",
        "    score = self.V(tf.nn.tanh(\n",
        "        self.W1(values) + self.W2(hidden_with_time_axis)))\n",
        "\n",
        "    # Get attention_weights\n",
        "    attention_weights = tf.nn.softmax(score, axis=1)\n",
        "\n",
        "    context_vector = attention_weights * values\n",
        "    context_vector = tf.reduce_sum(context_vector, axis=1)\n",
        "\n",
        "    return context_vector, attention_weights"
      ],
      "execution_count": 0,
      "outputs": []
    },
    {
      "cell_type": "code",
      "metadata": {
        "colab_type": "code",
        "id": "PC3mEUCsK6gj",
        "colab": {}
      },
      "source": [
        "attention_layer = BahdanauAttention(100)"
      ],
      "execution_count": 0,
      "outputs": []
    },
    {
      "cell_type": "code",
      "metadata": {
        "id": "c-DyZg30oC9H",
        "colab_type": "code",
        "colab": {}
      },
      "source": [
        "class Decoder(tf.keras.Model):\n",
        "  def __init__(self, vocab_size, embedding_dim, dec_units, batch_sz):\n",
        "    super(Decoder, self).__init__()\n",
        "    self.batch_sz = batch_sz\n",
        "    self.dec_units = dec_units\n",
        "    self.embedding = tf.keras.layers.Embedding(vocab_size, embedding_dim)\n",
        "\n",
        "    #LSTM Unit\n",
        "    self.lstm = tf.keras.layers.LSTM(self.dec_units,\n",
        "                                   return_sequences=True,\n",
        "                                   return_state=True,\n",
        "                                   recurrent_initializer='glorot_uniform')\n",
        "    self.fc = tf.keras.layers.Dense(vocab_size)\n",
        "\n",
        "    # used for attention\n",
        "    self.attention = BahdanauAttention(self.dec_units)\n",
        "\n",
        "  def call(self, x, hidden, enc_output):\n",
        "    context_vector, attention_weights = self.attention(hidden, enc_output)\n",
        "\n",
        "    x = self.embedding(x)\n",
        "    \n",
        "    x = tf.concat([tf.expand_dims(context_vector, 1), x], axis=-1)\n",
        "\n",
        "    # passing the concatenated vector to the LSTM\n",
        "    output, state, cell_state = self.lstm(x)\n",
        "\n",
        "    output = tf.reshape(output, (-1, output.shape[2]))\n",
        "\n",
        "    x = self.fc(output)\n",
        "\n",
        "    return x, state, attention_weights"
      ],
      "execution_count": 0,
      "outputs": []
    },
    {
      "cell_type": "code",
      "metadata": {
        "colab_type": "code",
        "id": "nnsOvkeBK37t",
        "colab": {}
      },
      "source": [
        "decoder = Decoder(vocab_tar_size, embedding_dim, units, BATCH_SIZE)"
      ],
      "execution_count": 0,
      "outputs": []
    },
    {
      "cell_type": "code",
      "metadata": {
        "id": "f9-Wv1eHoCNO",
        "colab_type": "code",
        "colab": {}
      },
      "source": [
        "optimizer = tf.keras.optimizers.Adam(lr=0.001)\n",
        "loss_object = tf.keras.losses.SparseCategoricalCrossentropy(\n",
        "    from_logits=True, reduction='none')\n",
        "\n",
        "def loss_function(real, pred):\n",
        "  # Apply a mask to paddings (0)\n",
        "  mask = tf.math.logical_not(tf.math.equal(real, 0))\n",
        "  loss_ = loss_object(real, pred)\n",
        "\n",
        "  mask = tf.cast(mask, dtype=loss_.dtype)\n",
        "  loss_ *= mask\n",
        "\n",
        "  return tf.reduce_mean(loss_)"
      ],
      "execution_count": 0,
      "outputs": []
    },
    {
      "cell_type": "markdown",
      "metadata": {
        "id": "bWpq1TQftedU",
        "colab_type": "text"
      },
      "source": [
        "### Checkpoints"
      ]
    },
    {
      "cell_type": "code",
      "metadata": {
        "id": "dxmuOCEuyrj7",
        "colab_type": "code",
        "colab": {}
      },
      "source": [
        "# !rm -r /gdrive/My\\ Drive/ADL\\ Project/checkpoints/training_checkpoints/aashna_bidir_new"
      ],
      "execution_count": 0,
      "outputs": []
    },
    {
      "cell_type": "code",
      "metadata": {
        "id": "qMDyLmwNJEr7",
        "colab_type": "code",
        "outputId": "cc1961ab-3eec-4d28-cf7a-82214ad42d12",
        "colab": {
          "base_uri": "https://localhost:8080/",
          "height": 51
        }
      },
      "source": [
        "checkpoint_dir = os.path.join(drive_root, \"ADL Project/checkpoints\")\n",
        "checkpoint_dir = os.path.join(checkpoint_dir, \"training_checkpoints/aashna_bidir_new\")\n",
        "\n",
        "print(\"Checkpoints directory is\", checkpoint_dir)\n",
        "if os.path.exists(checkpoint_dir):\n",
        "  print(\"Checkpoints folder already exists\")\n",
        "else:\n",
        "  print(\"Creating a checkpoints directory\")\n",
        "  os.makedirs(checkpoint_dir)\n",
        "\n",
        "\n",
        "checkpoint_prefix = os.path.join(checkpoint_dir, \"ckpt\")\n",
        "checkpoint = tf.train.Checkpoint(optimizer=optimizer,\n",
        "                                 encoder=encoder,\n",
        "                                 decoder=decoder)"
      ],
      "execution_count": 0,
      "outputs": [
        {
          "output_type": "stream",
          "text": [
            "Checkpoints directory is /gdrive/My Drive/ADL Project/checkpoints/training_checkpoints/aashna_bidir_new\n",
            "Creating a checkpoints directory\n"
          ],
          "name": "stdout"
        }
      ]
    },
    {
      "cell_type": "code",
      "metadata": {
        "id": "DFpsWcR-uVIi",
        "colab_type": "code",
        "colab": {}
      },
      "source": [
        "latest = tf.train.latest_checkpoint(checkpoint_dir)\n",
        "latest"
      ],
      "execution_count": 0,
      "outputs": []
    },
    {
      "cell_type": "code",
      "metadata": {
        "id": "xh8zrJl0uWoM",
        "colab_type": "code",
        "colab": {}
      },
      "source": [
        "if latest:\n",
        "  epoch_num = int(latest.split('/')[-1].split('-')[-1])\n",
        "  checkpoint.restore(latest)\n",
        "else:\n",
        "  epoch_num = 0"
      ],
      "execution_count": 0,
      "outputs": []
    },
    {
      "cell_type": "code",
      "metadata": {
        "id": "zVHRFQuswBET",
        "colab_type": "code",
        "outputId": "e8e5dccd-2ab2-428a-b821-06ffadb7993a",
        "colab": {
          "base_uri": "https://localhost:8080/",
          "height": 34
        }
      },
      "source": [
        "epoch_num"
      ],
      "execution_count": 0,
      "outputs": [
        {
          "output_type": "execute_result",
          "data": {
            "text/plain": [
              "0"
            ]
          },
          "metadata": {
            "tags": []
          },
          "execution_count": 195
        }
      ]
    },
    {
      "cell_type": "markdown",
      "metadata": {
        "id": "QVFK-PEhKWcL",
        "colab_type": "text"
      },
      "source": [
        "### Training"
      ]
    },
    {
      "cell_type": "code",
      "metadata": {
        "id": "b3ZFzAVCKLfp",
        "colab_type": "code",
        "colab": {}
      },
      "source": [
        "@tf.function\n",
        "def train_step(inp, targ, enc_hidden):\n",
        "  loss = 0\n",
        "\n",
        "  with tf.GradientTape() as tape:\n",
        "    enc_output, enc_hidden = encoder(inp, enc_hidden)\n",
        "    # print(enc_output.shape)\n",
        "    # print(len(enc_hidden))\n",
        "    # print(enc_hidden[0].shape)\n",
        "    dec_hidden = enc_hidden[0]\n",
        "\n",
        "    dec_input = tf.expand_dims([targ_lang_tokenizer.word_index['<start>']] * BATCH_SIZE, 1)\n",
        "\n",
        "    # Teacher forcing - feeding the target as the next input, to ensure proper training\n",
        "    for t in range(1, targ.shape[1]):\n",
        "      # passing enc_output to the decoder\n",
        "      predictions, dec_hidden, _ = decoder(dec_input, dec_hidden, enc_output)\n",
        "\n",
        "      loss += loss_function(targ[:, t], predictions)\n",
        "\n",
        "      # using teacher forcing\n",
        "      dec_input = tf.expand_dims(targ[:, t], 1)\n",
        "\n",
        "  batch_loss = (loss / int(targ.shape[1]))\n",
        "\n",
        "  variables = encoder.trainable_variables + decoder.trainable_variables\n",
        "\n",
        "  gradients = tape.gradient(loss, variables)\n",
        "\n",
        "  optimizer.apply_gradients(zip(gradients, variables))\n",
        "\n",
        "  return batch_loss"
      ],
      "execution_count": 0,
      "outputs": []
    },
    {
      "cell_type": "code",
      "metadata": {
        "id": "67qb5rLOKLXz",
        "colab_type": "code",
        "outputId": "f3a3c357-515a-48bc-bdd4-167deeb8fc4f",
        "colab": {
          "base_uri": "https://localhost:8080/",
          "height": 867
        }
      },
      "source": [
        "EPOCHS = 5\n",
        "\n",
        "for epoch in range(epoch_num, EPOCHS):\n",
        "  start = time.time()\n",
        "\n",
        "  enc_hidden = encoder.initialize_hidden_state()\n",
        "  total_loss = 0\n",
        "\n",
        "  for (batch, (inp, targ)) in enumerate(dataset.take(steps_per_epoch)):\n",
        "    batch_loss = train_step(inp, targ, enc_hidden)\n",
        "    total_loss += batch_loss\n",
        "\n",
        "    if batch % 100 == 0:\n",
        "        print('Epoch {} Batch {} Loss {:.4f}'.format(epoch + 1,\n",
        "                                                     batch,\n",
        "                                                     batch_loss.numpy()))\n",
        "  checkpoint.save(file_prefix = checkpoint_prefix)\n",
        "  print('Saved epoch: {} at {}'.format(epoch+1, checkpoint_dir))\n",
        "\n",
        "  print('Epoch {} Loss {:.4f}'.format(epoch + 1,\n",
        "                                      total_loss / steps_per_epoch))\n",
        "  print('Time taken for 1 epoch {} sec\\n'.format(time.time() - start))"
      ],
      "execution_count": 0,
      "outputs": [
        {
          "output_type": "stream",
          "text": [
            "Epoch 1 Batch 0 Loss 0.5086\n",
            "Epoch 1 Batch 100 Loss 0.2943\n",
            "Epoch 1 Batch 200 Loss 0.2160\n",
            "Epoch 1 Batch 300 Loss 0.2370\n",
            "Epoch 1 Batch 400 Loss 0.2115\n",
            "Epoch 1 Batch 500 Loss 0.2505\n",
            "Saved epoch: 1 at /gdrive/My Drive/ADL Project/checkpoints/training_checkpoints/aashna_bidir_new\n",
            "Epoch 1 Loss 0.2379\n",
            "Time taken for 1 epoch 390.9043769836426 sec\n",
            "\n",
            "Epoch 2 Batch 0 Loss 0.1775\n",
            "Epoch 2 Batch 100 Loss 0.1959\n",
            "Epoch 2 Batch 200 Loss 0.1591\n",
            "Epoch 2 Batch 300 Loss 0.1599\n",
            "Epoch 2 Batch 400 Loss 0.1521\n",
            "Epoch 2 Batch 500 Loss 0.1344\n",
            "Saved epoch: 2 at /gdrive/My Drive/ADL Project/checkpoints/training_checkpoints/aashna_bidir_new\n",
            "Epoch 2 Loss 0.1610\n",
            "Time taken for 1 epoch 326.494660615921 sec\n",
            "\n",
            "Epoch 3 Batch 0 Loss 0.1497\n",
            "Epoch 3 Batch 100 Loss 0.1319\n",
            "Epoch 3 Batch 200 Loss 0.1441\n",
            "Epoch 3 Batch 300 Loss 0.1420\n",
            "Epoch 3 Batch 400 Loss 0.1098\n",
            "Epoch 3 Batch 500 Loss 0.1159\n",
            "Saved epoch: 3 at /gdrive/My Drive/ADL Project/checkpoints/training_checkpoints/aashna_bidir_new\n",
            "Epoch 3 Loss 0.1293\n",
            "Time taken for 1 epoch 326.1851215362549 sec\n",
            "\n",
            "Epoch 4 Batch 0 Loss 0.1036\n",
            "Epoch 4 Batch 100 Loss 0.0952\n",
            "Epoch 4 Batch 200 Loss 0.1001\n",
            "Epoch 4 Batch 300 Loss 0.1045\n",
            "Epoch 4 Batch 400 Loss 0.0831\n",
            "Epoch 4 Batch 500 Loss 0.0718\n",
            "Saved epoch: 4 at /gdrive/My Drive/ADL Project/checkpoints/training_checkpoints/aashna_bidir_new\n",
            "Epoch 4 Loss 0.0962\n",
            "Time taken for 1 epoch 324.4792175292969 sec\n",
            "\n",
            "Epoch 5 Batch 0 Loss 0.0812\n",
            "Epoch 5 Batch 100 Loss 0.0638\n",
            "Epoch 5 Batch 200 Loss 0.0891\n",
            "Epoch 5 Batch 300 Loss 0.0796\n",
            "Epoch 5 Batch 400 Loss 0.0981\n",
            "Epoch 5 Batch 500 Loss 0.0774\n",
            "Saved epoch: 5 at /gdrive/My Drive/ADL Project/checkpoints/training_checkpoints/aashna_bidir_new\n",
            "Epoch 5 Loss 0.0916\n",
            "Time taken for 1 epoch 324.4754981994629 sec\n",
            "\n"
          ],
          "name": "stdout"
        }
      ]
    },
    {
      "cell_type": "markdown",
      "metadata": {
        "id": "Eyexdqi0M8hH",
        "colab_type": "text"
      },
      "source": [
        "### Evaluation"
      ]
    },
    {
      "cell_type": "code",
      "metadata": {
        "id": "fnZyvWqNNNKt",
        "colab_type": "code",
        "colab": {}
      },
      "source": [
        "def max_length(tensor):\n",
        "    return max(len(t) for t in tensor)"
      ],
      "execution_count": 0,
      "outputs": []
    },
    {
      "cell_type": "code",
      "metadata": {
        "id": "oTJBsVz_NMPP",
        "colab_type": "code",
        "colab": {}
      },
      "source": [
        "max_length_targ, max_length_inp = max_length(target_tensor), max_length(input_tensor)"
      ],
      "execution_count": 0,
      "outputs": []
    },
    {
      "cell_type": "code",
      "metadata": {
        "id": "Kn3ZLnj3JEpO",
        "colab_type": "code",
        "colab": {}
      },
      "source": [
        "def evaluate(sentence):\n",
        "    attention_plot = np.zeros((max_length_targ, max_length_inp))\n",
        "\n",
        "    # Preprocess the input\n",
        "    sentence = preprocess_input(sentence)\n",
        "\n",
        "    inputs = [inp_lang_tokenizer.word_index[i] for i in sentence.split(' ')]\n",
        "    inputs = tf.keras.preprocessing.sequence.pad_sequences([inputs],\n",
        "                                                           maxlen=max_length_inp,\n",
        "                                                           padding='post')\n",
        "    inputs = tf.convert_to_tensor(inputs)\n",
        "    \n",
        "    result = ''\n",
        "\n",
        "    hidden = [tf.zeros((1, units)),tf.zeros((1, units))]\n",
        "    enc_out, enc_hidden = encoder(inputs, hidden)\n",
        "\n",
        "    dec_hidden = enc_hidden[0]\n",
        "    dec_input = tf.expand_dims([targ_lang_tokenizer.word_index['<start>']], 0)\n",
        "\n",
        "    for t in range(max_length_targ):\n",
        "        predictions, dec_hidden, attention_weights = decoder(dec_input,\n",
        "                                                             dec_hidden,\n",
        "                                                             enc_out)\n",
        "\n",
        "        # storing the attention weights to plot later on\n",
        "        attention_weights = tf.reshape(attention_weights, (-1, ))\n",
        "        attention_plot[t] = attention_weights.numpy()\n",
        "\n",
        "        predicted_id = tf.argmax(predictions[0]).numpy()\n",
        "\n",
        "        result += targ_lang_tokenizer.index_word[predicted_id] + ' '\n",
        "\n",
        "        if targ_lang_tokenizer.index_word[predicted_id] == '<end>':\n",
        "            return result, sentence, attention_plot\n",
        "\n",
        "        # the predicted ID is fed back into the model\n",
        "        dec_input = tf.expand_dims([predicted_id], 0)\n",
        "\n",
        "    return result, sentence, attention_plot"
      ],
      "execution_count": 0,
      "outputs": []
    },
    {
      "cell_type": "code",
      "metadata": {
        "id": "umrQPiXzJEmh",
        "colab_type": "code",
        "colab": {}
      },
      "source": [
        "# function for plotting the attention weights\n",
        "def plot_attention(attention, sentence, predicted_sentence):\n",
        "    fig = plt.figure(figsize=(10,10))\n",
        "    ax = fig.add_subplot(1, 1, 1)\n",
        "    ax.matshow(attention, cmap='viridis')\n",
        "\n",
        "    fontdict = {'fontsize': 14}\n",
        "\n",
        "    ax.set_xticklabels([''] + sentence, fontdict=fontdict, rotation=90)\n",
        "    ax.set_yticklabels([''] + predicted_sentence, fontdict=fontdict)\n",
        "\n",
        "    ax.xaxis.set_major_locator(ticker.MultipleLocator(1))\n",
        "    ax.yaxis.set_major_locator(ticker.MultipleLocator(1))\n",
        "\n",
        "    plt.show()"
      ],
      "execution_count": 0,
      "outputs": []
    },
    {
      "cell_type": "code",
      "metadata": {
        "id": "lejO34wRJEjk",
        "colab_type": "code",
        "colab": {}
      },
      "source": [
        "def translate(sentence):\n",
        "    result, sentence, attention_plot = evaluate(sentence)\n",
        "\n",
        "    print('Input: %s' % (sentence))\n",
        "    print('Predicted translation: {}'.format(result))\n",
        "\n",
        "    attention_plot = attention_plot[:len(result.split(' ')), :len(sentence.split(' '))]\n",
        "    plot_attention(attention_plot, sentence.split(' '), result.split(' '))"
      ],
      "execution_count": 0,
      "outputs": []
    },
    {
      "cell_type": "code",
      "metadata": {
        "id": "fExKUNvrJEg0",
        "colab_type": "code",
        "outputId": "2760a722-8edc-469a-9e78-b1710596e868",
        "colab": {
          "base_uri": "https://localhost:8080/",
          "height": 34
        }
      },
      "source": [
        "# restoring the latest checkpoint in checkpoint_dir\n",
        "checkpoint.restore(tf.train.latest_checkpoint(checkpoint_dir))"
      ],
      "execution_count": 0,
      "outputs": [
        {
          "output_type": "execute_result",
          "data": {
            "text/plain": [
              "<tensorflow.python.training.tracking.util.CheckpointLoadStatus at 0x7fa8fb1d10f0>"
            ]
          },
          "metadata": {
            "tags": []
          },
          "execution_count": 203
        }
      ]
    },
    {
      "cell_type": "code",
      "metadata": {
        "id": "MOmRe3rePI90",
        "colab_type": "code",
        "colab": {}
      },
      "source": [
        "def evaluate_accuracy(inputs):\n",
        "    attention_plot = np.zeros((max_length_targ, max_length_inp))\n",
        "    sentence = ''\n",
        "    for i in range(len(inputs.numpy()[0])):\n",
        "      if inputs.numpy()[0][i] != 0: #padding token\n",
        "        sentence += inp_lang_tokenizer.index_word[inputs.numpy()[0][i]] + ' '\n",
        "\n",
        "    inputs = tf.convert_to_tensor(inputs)\n",
        "    \n",
        "    result = ''\n",
        "    result_seq = ''\n",
        "    \n",
        "    hidden = [tf.zeros((1, units)),tf.zeros((1, units))]\n",
        "    enc_out, enc_hidden = encoder(inputs, hidden)\n",
        "    \n",
        "    dec_hidden = enc_hidden[0]\n",
        "    dec_input = tf.expand_dims([targ_lang_tokenizer.word_index['<start>']], 0)\n",
        "    \n",
        "    for t in range(max_length_targ):\n",
        "        predictions, dec_hidden, attention_weights = decoder(dec_input,\n",
        "                                                             dec_hidden,\n",
        "                                                             enc_out)\n",
        "\n",
        "        # storing the attention weights to plot later on\n",
        "        attention_weights = tf.reshape(attention_weights, (-1, ))\n",
        "        attention_plot[t] = attention_weights.numpy()\n",
        "\n",
        "        predicted_id = tf.argmax(predictions[0]).numpy()\n",
        "        \n",
        "        result_seq += str(predicted_id) +' '\n",
        "        \n",
        "        result += targ_lang_tokenizer.index_word[predicted_id] + ' '\n",
        "\n",
        "        if targ_lang_tokenizer.index_word[predicted_id] == '<end>':\n",
        "            return result_seq, result, sentence, attention_plot\n",
        "\n",
        "        # the predicted ID is fed back into the model\n",
        "        dec_input = tf.expand_dims([predicted_id], 0)\n",
        "\n",
        "    return result_seq, result, sentence, attention_plot"
      ],
      "execution_count": 0,
      "outputs": []
    },
    {
      "cell_type": "code",
      "metadata": {
        "id": "jjHwLDy8TTYv",
        "colab_type": "code",
        "colab": {}
      },
      "source": [
        "dataset_val = tf.data.Dataset.from_tensor_slices((input_tensor_val, target_tensor_val)).shuffle(BUFFER_SIZE)\n",
        "dataset_val = dataset_val.batch(1, drop_remainder=True)"
      ],
      "execution_count": 0,
      "outputs": []
    },
    {
      "cell_type": "code",
      "metadata": {
        "id": "MZZyZW6LoCKm",
        "colab_type": "code",
        "outputId": "d1ed3e05-8d54-4147-f339-4f257cea8eda",
        "colab": {
          "base_uri": "https://localhost:8080/",
          "height": 1000
        }
      },
      "source": [
        "y_true = []\n",
        "y_pred = []\n",
        "acc_cnt = 0\n",
        "\n",
        "a = 0\n",
        "for (inp_val_batch, target_val_batch) in iter(dataset_val):\n",
        "  a += 1\n",
        "  if a % 50 == 0:\n",
        "    print(a)\n",
        "    print(\"Accuracy count: \",acc_cnt)\n",
        "    print('------------------')\n",
        "\n",
        "  target_sentence = ''\n",
        "  for i in target_val_batch.numpy()[0]:\n",
        "    if i!= 0:\n",
        "      target_sentence += (targ_lang_tokenizer.index_word[i] + ' ')\n",
        "  target_sentence = target_sentence.split('<start> ')[1]\n",
        "  # print('True:{}'.format(target_sentence))\n",
        "  y_true.append([target_sentence.split(' ')])\n",
        "\n",
        "  res_seq, res, sent, att = evaluate_accuracy(inp_val_batch)\n",
        "  y_pred.append(res.split(' '))\n",
        "  \n",
        "  if target_sentence == res:\n",
        "    acc_cnt += 1"
      ],
      "execution_count": 0,
      "outputs": [
        {
          "output_type": "stream",
          "text": [
            "50\n",
            "Accuracy count:  7\n",
            "------------------\n",
            "100\n",
            "Accuracy count:  21\n",
            "------------------\n",
            "150\n",
            "Accuracy count:  36\n",
            "------------------\n",
            "200\n",
            "Accuracy count:  47\n",
            "------------------\n",
            "250\n",
            "Accuracy count:  64\n",
            "------------------\n",
            "300\n",
            "Accuracy count:  81\n",
            "------------------\n",
            "350\n",
            "Accuracy count:  90\n",
            "------------------\n",
            "400\n",
            "Accuracy count:  108\n",
            "------------------\n",
            "450\n",
            "Accuracy count:  121\n",
            "------------------\n",
            "500\n",
            "Accuracy count:  136\n",
            "------------------\n",
            "550\n",
            "Accuracy count:  149\n",
            "------------------\n",
            "600\n",
            "Accuracy count:  165\n",
            "------------------\n",
            "650\n",
            "Accuracy count:  176\n",
            "------------------\n",
            "700\n",
            "Accuracy count:  192\n",
            "------------------\n",
            "750\n",
            "Accuracy count:  209\n",
            "------------------\n",
            "800\n",
            "Accuracy count:  221\n",
            "------------------\n",
            "850\n",
            "Accuracy count:  229\n",
            "------------------\n",
            "900\n",
            "Accuracy count:  242\n",
            "------------------\n",
            "950\n",
            "Accuracy count:  248\n",
            "------------------\n",
            "1000\n",
            "Accuracy count:  259\n",
            "------------------\n",
            "1050\n",
            "Accuracy count:  272\n",
            "------------------\n",
            "1100\n",
            "Accuracy count:  287\n",
            "------------------\n",
            "1150\n",
            "Accuracy count:  301\n",
            "------------------\n",
            "1200\n",
            "Accuracy count:  317\n",
            "------------------\n",
            "1250\n",
            "Accuracy count:  326\n",
            "------------------\n",
            "1300\n",
            "Accuracy count:  333\n",
            "------------------\n",
            "1350\n",
            "Accuracy count:  348\n",
            "------------------\n",
            "1400\n",
            "Accuracy count:  357\n",
            "------------------\n",
            "1450\n",
            "Accuracy count:  370\n",
            "------------------\n",
            "1500\n",
            "Accuracy count:  385\n",
            "------------------\n",
            "1550\n",
            "Accuracy count:  400\n",
            "------------------\n",
            "1600\n",
            "Accuracy count:  415\n",
            "------------------\n",
            "1650\n",
            "Accuracy count:  426\n",
            "------------------\n",
            "1700\n",
            "Accuracy count:  437\n",
            "------------------\n",
            "1750\n",
            "Accuracy count:  449\n",
            "------------------\n",
            "1800\n",
            "Accuracy count:  461\n",
            "------------------\n",
            "1850\n",
            "Accuracy count:  473\n",
            "------------------\n",
            "1900\n",
            "Accuracy count:  490\n",
            "------------------\n"
          ],
          "name": "stdout"
        }
      ]
    },
    {
      "cell_type": "code",
      "metadata": {
        "id": "daGaIvQW7riI",
        "colab_type": "code",
        "outputId": "11641c74-9306-44f5-d152-6355fece320d",
        "colab": {
          "base_uri": "https://localhost:8080/",
          "height": 34
        }
      },
      "source": [
        "print('Corpus BLEU score of the model: ', corpus_bleu(y_true, y_pred))"
      ],
      "execution_count": 0,
      "outputs": [
        {
          "output_type": "stream",
          "text": [
            "Corpus BLEU score of the model:  0.44778402085810237\n"
          ],
          "name": "stdout"
        }
      ]
    },
    {
      "cell_type": "code",
      "metadata": {
        "id": "bcswXaKS5ssh",
        "colab_type": "code",
        "outputId": "c535a2d0-d8d9-46a8-ecbc-2ead8330d8ac",
        "colab": {
          "base_uri": "https://localhost:8080/",
          "height": 34
        }
      },
      "source": [
        "print('Accuracy of the model: ', acc_cnt/len(input_tensor_val))"
      ],
      "execution_count": 0,
      "outputs": [
        {
          "output_type": "stream",
          "text": [
            "Accuracy of the model:  0.25681341719077566\n"
          ],
          "name": "stdout"
        }
      ]
    },
    {
      "cell_type": "markdown",
      "metadata": {
        "id": "c90clFbl1WpE",
        "colab_type": "text"
      },
      "source": [
        "#### Translation and Attention Plots"
      ]
    },
    {
      "cell_type": "code",
      "metadata": {
        "id": "Ow23VYqqatBr",
        "colab_type": "code",
        "colab": {}
      },
      "source": [
        "check_str = ' '.join([inp_lang_tokenizer.index_word[i] for i in input_tensor_val[0] if i != 0][1:-1])"
      ],
      "execution_count": 0,
      "outputs": []
    },
    {
      "cell_type": "code",
      "metadata": {
        "id": "wOlMl19G0yCN",
        "colab_type": "code",
        "outputId": "88a1f0f7-10a0-4cda-bfea-d29c7a0cfff6",
        "colab": {
          "base_uri": "https://localhost:8080/",
          "height": 54
        }
      },
      "source": [
        "check_str"
      ],
      "execution_count": 0,
      "outputs": [
        {
          "output_type": "execute_result",
          "data": {
            "text/plain": [
              "'ronnie had some blackberry . he divide each blackberry into 1 3 slices . if total 1 8 9 blackberry slices ronnie make , then how many blackberry ronnie had ?'"
            ]
          },
          "metadata": {
            "tags": []
          },
          "execution_count": 215
        }
      ]
    },
    {
      "cell_type": "code",
      "metadata": {
        "id": "SiveRxOVqIHw",
        "colab_type": "code",
        "outputId": "f1d7e782-9bfa-4ff8-ccd5-ae33d35bd492",
        "colab": {
          "base_uri": "https://localhost:8080/",
          "height": 339
        }
      },
      "source": [
        "translate(check_str)"
      ],
      "execution_count": 0,
      "outputs": [
        {
          "output_type": "stream",
          "text": [
            "Input: <start> ronnie had some blackberry . he divide each blackberry into 1 3 slices . if total 1 8 9 blackberry slices ronnie make , then how many blackberry ronnie had ? <end>\n",
            "Predicted translation: x = 1 9 8 / 1 3 <end> \n"
          ],
          "name": "stdout"
        },
        {
          "output_type": "display_data",
          "data": {
            "image/png": "[encoded data removed]",
            "text/plain": [
              "<Figure size 720x720 with 1 Axes>"
            ]
          },
          "metadata": {
            "tags": []
          }
        }
      ]
    },
    {
      "cell_type": "code",
      "metadata": {
        "id": "Xt3EzdK81GrY",
        "colab_type": "code",
        "outputId": "19acea8b-5d34-4a4d-c297-fe3719cd6326",
        "colab": {
          "base_uri": "https://localhost:8080/",
          "height": 374
        }
      },
      "source": [
        "translate(\"Jerry had 135 pens. John took 19 from him. How many does Jerry have left?\")"
      ],
      "execution_count": 0,
      "outputs": [
        {
          "output_type": "stream",
          "text": [
            "Input: <start> jerry had 1 3 5 pens . john took 1 9 from him . how many does jerry have left ? <end>\n",
            "Predicted translation: x = 1 3 5 - 1 9 <end> \n"
          ],
          "name": "stdout"
        },
        {
          "output_type": "display_data",
          "data": {
            "image/png": "[encoded data removed]",
            "text/plain": [
              "<Figure size 720x720 with 1 Axes>"
            ]
          },
          "metadata": {
            "tags": []
          }
        }
      ]
    },
    {
      "cell_type": "markdown",
      "metadata": {
        "id": "WAdJzJr1CaXy",
        "colab_type": "text"
      },
      "source": [
        "### Conclusions"
      ]
    },
    {
      "cell_type": "markdown",
      "metadata": {
        "id": "Hp_vTUIWCaLK",
        "colab_type": "text"
      },
      "source": [
        "This model does not overfit as the baseline did with the old dataset. It gives reasonable scores for the dataset. However, we can see from the attention plots that even though a lot of translations are correct or very close, the word it is supposed to give to attention to while translating is not correct.\n",
        "\n",
        "This is why we also decided to experiment with Transformer models as well to see if it will give better results.\n",
        "\n",
        "Sources:\n",
        "1. https://web.stanford.edu/class/cs224n/reports/custom/15843468.pdf\n",
        "2. https://www.tensorflow.org/tutorials/text/nmt_with_attention#top_of_page"
      ]
    },
    {
      "cell_type": "code",
      "metadata": {
        "id": "mfDUfkhEFUrs",
        "colab_type": "code",
        "colab": {}
      },
      "source": [
        ""
      ],
      "execution_count": 0,
      "outputs": []
    }
  ]
}