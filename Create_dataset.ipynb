{
  "nbformat": 4,
  "nbformat_minor": 0,
  "metadata": {
    "colab": {
      "name": "Create_dataset.ipynb",
      "provenance": [],
      "collapsed_sections": []
    },
    "kernelspec": {
      "name": "python3",
      "display_name": "Python 3"
    },
    "accelerator": "GPU"
  },
  "cells": [
    {
      "cell_type": "code",
      "metadata": {
        "id": "6dZ1V3_BWPeV",
        "colab_type": "code",
        "outputId": "7a822944-63b5-438f-d77c-c2da74b8345a",
        "colab": {
          "base_uri": "https://localhost:8080/",
          "height": 122
        }
      },
      "source": [
        "from google.colab import drive\n",
        "drive.mount('/content/drive')"
      ],
      "execution_count": 0,
      "outputs": [
        {
          "output_type": "stream",
          "text": [
            "Go to this URL in a browser: https://accounts.google.com/o/oauth2/auth?client_id=947318989803-6bn6qk8qdgf4n4g3pfee6491hc0brc4i.apps.googleusercontent.com&redirect_uri=urn%3aietf%3awg%3aoauth%3a2.0%3aoob&response_type=code&scope=email%20https%3a%2f%2fwww.googleapis.com%2fauth%2fdocs.test%20https%3a%2f%2fwww.googleapis.com%2fauth%2fdrive%20https%3a%2f%2fwww.googleapis.com%2fauth%2fdrive.photos.readonly%20https%3a%2f%2fwww.googleapis.com%2fauth%2fpeopleapi.readonly\n",
            "\n",
            "Enter your authorization code:\n",
            "··········\n",
            "Mounted at /content/drive\n"
          ],
          "name": "stdout"
        }
      ]
    },
    {
      "cell_type": "code",
      "metadata": {
        "id": "ASTt3rf5CV3R",
        "colab_type": "code",
        "colab": {}
      },
      "source": [
        "import pandas as pd\n",
        "import pickle\n",
        "import numpy as np\n",
        "import os"
      ],
      "execution_count": 0,
      "outputs": []
    },
    {
      "cell_type": "code",
      "metadata": {
        "id": "AXGoBjszWE2D",
        "colab_type": "code",
        "outputId": "79df71c4-025f-41a3-f6be-113cd64d1b9b",
        "colab": {
          "base_uri": "https://localhost:8080/",
          "height": 224
        }
      },
      "source": [
        "!pip install python-docx"
      ],
      "execution_count": 0,
      "outputs": [
        {
          "output_type": "stream",
          "text": [
            "Collecting python-docx\n",
            "\u001b[?25l  Downloading https://files.pythonhosted.org/packages/e4/83/c66a1934ed5ed8ab1dbb9931f1779079f8bca0f6bbc5793c06c4b5e7d671/python-docx-0.8.10.tar.gz (5.5MB)\n",
            "\u001b[K     |████████████████████████████████| 5.5MB 2.7MB/s \n",
            "\u001b[?25hRequirement already satisfied: lxml>=2.3.2 in /usr/local/lib/python3.6/dist-packages (from python-docx) (4.2.6)\n",
            "Building wheels for collected packages: python-docx\n",
            "  Building wheel for python-docx (setup.py) ... \u001b[?25l\u001b[?25hdone\n",
            "  Created wheel for python-docx: filename=python_docx-0.8.10-cp36-none-any.whl size=184491 sha256=016fd5daf90117eac081f05b4f137b8d300b30a7c173a2c30b07f63e0c7cc765\n",
            "  Stored in directory: /root/.cache/pip/wheels/18/0b/a0/1dd62ff812c857c9e487f27d80d53d2b40531bec1acecfa47b\n",
            "Successfully built python-docx\n",
            "Installing collected packages: python-docx\n",
            "Successfully installed python-docx-0.8.10\n"
          ],
          "name": "stdout"
        }
      ]
    },
    {
      "cell_type": "code",
      "metadata": {
        "id": "PK08yyB2WJXD",
        "colab_type": "code",
        "colab": {}
      },
      "source": [
        "import docx"
      ],
      "execution_count": 0,
      "outputs": []
    },
    {
      "cell_type": "code",
      "metadata": {
        "id": "Xz04oHQnWJsD",
        "colab_type": "code",
        "colab": {}
      },
      "source": [
        "def getText(filename):\n",
        "    doc = docx.Document(filename)\n",
        "    fullText = []\n",
        "    for para in doc.paragraphs:\n",
        "        fullText.append(para.text)\n",
        "    return '\\n'.join(fullText)"
      ],
      "execution_count": 0,
      "outputs": []
    },
    {
      "cell_type": "code",
      "metadata": {
        "id": "PQVVSdghWM1G",
        "colab_type": "code",
        "colab": {}
      },
      "source": [
        "files = os.listdir('/data')"
      ],
      "execution_count": 0,
      "outputs": []
    },
    {
      "cell_type": "code",
      "metadata": {
        "id": "YlgAIFv7WNZ-",
        "colab_type": "code",
        "colab": {}
      },
      "source": [
        "texts = []\n",
        "for f in files:\n",
        "  if '.pkl' not in f and '.json' not in f:\n",
        "    texts.append(getText(f))"
      ],
      "execution_count": 0,
      "outputs": []
    },
    {
      "cell_type": "code",
      "metadata": {
        "id": "9x4J3DgGWlSB",
        "colab_type": "code",
        "colab": {}
      },
      "source": [
        "questions = []\n",
        "equations = []\n",
        "for text in texts:\n",
        "  for line in text.split('\\n')[1:]:\n",
        "    if 'Question :' in line:\n",
        "      q = line[len('Question : \\\"'):-1]\n",
        "      questions.append(q)\n",
        "    if 'Equation :' in line:\n",
        "      e = line[len('Equation : \\\" '):-1]\n",
        "      equations.append(e)"
      ],
      "execution_count": 0,
      "outputs": []
    },
    {
      "cell_type": "code",
      "metadata": {
        "id": "cZaEe7lQW5hA",
        "colab_type": "code",
        "outputId": "bcca6dc4-eb94-4a73-f43d-e8e08214ea5b",
        "colab": {
          "base_uri": "https://localhost:8080/",
          "height": 34
        }
      },
      "source": [
        "len(questions), len(equations)"
      ],
      "execution_count": 0,
      "outputs": [
        {
          "output_type": "execute_result",
          "data": {
            "text/plain": [
              "(36000, 36000)"
            ]
          },
          "metadata": {
            "tags": []
          },
          "execution_count": 10
        }
      ]
    },
    {
      "cell_type": "code",
      "metadata": {
        "id": "Zpi6loyeXOMR",
        "colab_type": "code",
        "outputId": "f80c78cb-0b3e-41cf-920d-7e9a189c565f",
        "colab": {
          "base_uri": "https://localhost:8080/",
          "height": 204
        }
      },
      "source": [
        "np.random.choice(questions, 10)"
      ],
      "execution_count": 0,
      "outputs": [
        {
          "output_type": "execute_result",
          "data": {
            "text/plain": [
              "array(['Thomas wants to share some lychee among 8 friends.If each friend get 38 lychee, then how many lychee john would have?',\n",
              "       'Bobby has 140 Marbles. Steve gave him 188 more. How many Marbles does Bobby have to sum?',\n",
              "       'Mary had 5 seashells. Ronald presented him some more. Now Mary has 158 seashells. How many did Ronald present him?',\n",
              "       'Anthony has 105 Marbles. Arthur gave him 112 more. How many Marbles does Anthony have total?',\n",
              "       'Philip had 298 blackcurrant. Jason grasped some blackcurrant. Now Philip has 5  blackcurrant. How many did Jason graspeds?',\n",
              "       'Patricia had 110 kiwi. Edith took 57 from him. Now How many kiwi Patricia have minus?',\n",
              "       'Anthony had 23 avocado . He divide each avocado into 13 slices . How many avocado slices did Anthony make?',\n",
              "       'Edgar had 48 Doll . He hash each Doll into 19 slices . How many Doll slices did Edgar make?',\n",
              "       'Barbara had 28 Chocolate . He mince each Chocolate into 17 slices . How many Chocolate slices did Barbara make?',\n",
              "       'William had 27 coconut. Dale gifted him some more. Now William has 113 coconut. How many did Dale gift him?'],\n",
              "      dtype='<U168')"
            ]
          },
          "metadata": {
            "tags": []
          },
          "execution_count": 11
        }
      ]
    },
    {
      "cell_type": "code",
      "metadata": {
        "id": "A7sJm0BZXSHP",
        "colab_type": "code",
        "outputId": "298b4541-4d82-47a4-a0c6-4df73a167c4c",
        "colab": {
          "base_uri": "https://localhost:8080/",
          "height": 68
        }
      },
      "source": [
        "np.random.choice(equations, 10)"
      ],
      "execution_count": 0,
      "outputs": [
        {
          "output_type": "execute_result",
          "data": {
            "text/plain": [
              "array(['X = 50 - 2', 'X = 129 - 16', 'X = 271 / 17', 'X = 136 / 17',\n",
              "       'X = 148 - 85', 'X = 116 + 109', 'X = 332 / 23', 'X = 121 - 65',\n",
              "       'X = 29 - 9', 'X = 104 / 30'], dtype='<U13')"
            ]
          },
          "metadata": {
            "tags": []
          },
          "execution_count": 12
        }
      ]
    },
    {
      "cell_type": "code",
      "metadata": {
        "id": "WhM7itDtXU_T",
        "colab_type": "code",
        "colab": {}
      },
      "source": [
        "data = pd.DataFrame({'Question':questions, 'Equation':equations})"
      ],
      "execution_count": 0,
      "outputs": []
    },
    {
      "cell_type": "code",
      "metadata": {
        "id": "1TRl8jaLX8uU",
        "colab_type": "code",
        "outputId": "b6d51aea-3273-45d4-b8a2-77c3fa635290",
        "colab": {
          "base_uri": "https://localhost:8080/",
          "height": 419
        }
      },
      "source": [
        "data"
      ],
      "execution_count": 0,
      "outputs": [
        {
          "output_type": "execute_result",
          "data": {
            "text/html": [
              "<div>\n",
              "<style scoped>\n",
              "    .dataframe tbody tr th:only-of-type {\n",
              "        vertical-align: middle;\n",
              "    }\n",
              "\n",
              "    .dataframe tbody tr th {\n",
              "        vertical-align: top;\n",
              "    }\n",
              "\n",
              "    .dataframe thead th {\n",
              "        text-align: right;\n",
              "    }\n",
              "</style>\n",
              "<table border=\"1\" class=\"dataframe\">\n",
              "  <thead>\n",
              "    <tr style=\"text-align: right;\">\n",
              "      <th></th>\n",
              "      <th>Question</th>\n",
              "      <th>Equation</th>\n",
              "    </tr>\n",
              "  </thead>\n",
              "  <tbody>\n",
              "    <tr>\n",
              "      <th>0</th>\n",
              "      <td>Eric had 165 Pen. Nancy took 140 from him. Now...</td>\n",
              "      <td>X = 165 - 140</td>\n",
              "    </tr>\n",
              "    <tr>\n",
              "      <th>1</th>\n",
              "      <td>Susie had 155 Watch. Richard took 51 from him....</td>\n",
              "      <td>X = 155 - 51</td>\n",
              "    </tr>\n",
              "    <tr>\n",
              "      <th>2</th>\n",
              "      <td>Walter had 141 apple. Marilyn took 118 from hi...</td>\n",
              "      <td>X = 141 - 118</td>\n",
              "    </tr>\n",
              "    <tr>\n",
              "      <th>3</th>\n",
              "      <td>Marsha had 177 apricot. Thanh took 113 from hi...</td>\n",
              "      <td>X = 177 - 113</td>\n",
              "    </tr>\n",
              "    <tr>\n",
              "      <th>4</th>\n",
              "      <td>Harland had 147 papaya. Dale took 112 from him...</td>\n",
              "      <td>X = 147 - 112</td>\n",
              "    </tr>\n",
              "    <tr>\n",
              "      <th>...</th>\n",
              "      <td>...</td>\n",
              "      <td>...</td>\n",
              "    </tr>\n",
              "    <tr>\n",
              "      <th>35995</th>\n",
              "      <td>Anita had some Book. William gave him 5 more. ...</td>\n",
              "      <td>X = 28 - 5</td>\n",
              "    </tr>\n",
              "    <tr>\n",
              "      <th>35996</th>\n",
              "      <td>James had some orange. Rene gave him 9 more. N...</td>\n",
              "      <td>X = 35 - 9</td>\n",
              "    </tr>\n",
              "    <tr>\n",
              "      <th>35997</th>\n",
              "      <td>Cindy had some apricot. Johnny gave him 1 more...</td>\n",
              "      <td>X = 18 - 1</td>\n",
              "    </tr>\n",
              "    <tr>\n",
              "      <th>35998</th>\n",
              "      <td>Dennis had some papaya. Raymond gave him 2 mor...</td>\n",
              "      <td>X = 32 - 2</td>\n",
              "    </tr>\n",
              "    <tr>\n",
              "      <th>35999</th>\n",
              "      <td>Roberto had some peach. Travis gave him 2 more...</td>\n",
              "      <td>X = 23 - 2</td>\n",
              "    </tr>\n",
              "  </tbody>\n",
              "</table>\n",
              "<p>36000 rows × 2 columns</p>\n",
              "</div>"
            ],
            "text/plain": [
              "                                                Question       Equation\n",
              "0      Eric had 165 Pen. Nancy took 140 from him. Now...  X = 165 - 140\n",
              "1      Susie had 155 Watch. Richard took 51 from him....   X = 155 - 51\n",
              "2      Walter had 141 apple. Marilyn took 118 from hi...  X = 141 - 118\n",
              "3      Marsha had 177 apricot. Thanh took 113 from hi...  X = 177 - 113\n",
              "4      Harland had 147 papaya. Dale took 112 from him...  X = 147 - 112\n",
              "...                                                  ...            ...\n",
              "35995  Anita had some Book. William gave him 5 more. ...     X = 28 - 5\n",
              "35996  James had some orange. Rene gave him 9 more. N...     X = 35 - 9\n",
              "35997  Cindy had some apricot. Johnny gave him 1 more...     X = 18 - 1\n",
              "35998  Dennis had some papaya. Raymond gave him 2 mor...     X = 32 - 2\n",
              "35999  Roberto had some peach. Travis gave him 2 more...     X = 23 - 2\n",
              "\n",
              "[36000 rows x 2 columns]"
            ]
          },
          "metadata": {
            "tags": []
          },
          "execution_count": 14
        }
      ]
    },
    {
      "cell_type": "markdown",
      "metadata": {
        "id": "WK9dg5mxs6YO",
        "colab_type": "text"
      },
      "source": [
        "## Add json dataset"
      ]
    },
    {
      "cell_type": "code",
      "metadata": {
        "id": "J8bguBfZsx21",
        "colab_type": "code",
        "colab": {}
      },
      "source": [
        "data_json = pd.read_json('/data/OneVariableSingleEQ.json')"
      ],
      "execution_count": 0,
      "outputs": []
    },
    {
      "cell_type": "code",
      "metadata": {
        "id": "22qyCctRtaIG",
        "colab_type": "code",
        "colab": {}
      },
      "source": [
        "data_2 = pd.DataFrame({'Question':list(data_json['sQuestion'].values), 'Equation':list(data_json['lEquations'].apply(lambda x: x[0]).values)})"
      ],
      "execution_count": 0,
      "outputs": []
    },
    {
      "cell_type": "code",
      "metadata": {
        "id": "UWkN16ostvoQ",
        "colab_type": "code",
        "colab": {}
      },
      "source": [
        "data_final = data.append(data_2)"
      ],
      "execution_count": 0,
      "outputs": []
    },
    {
      "cell_type": "code",
      "metadata": {
        "id": "Z3sBd0N7uHCG",
        "colab_type": "code",
        "colab": {}
      },
      "source": [
        "data_final = data_final.sample(frac=1)"
      ],
      "execution_count": 0,
      "outputs": []
    },
    {
      "cell_type": "code",
      "metadata": {
        "id": "6rwgn-C_t-YR",
        "colab_type": "code",
        "colab": {}
      },
      "source": [
        "with open('data_final.pkl','wb') as f:\n",
        "  pickle.dump(data_final, f)"
      ],
      "execution_count": 0,
      "outputs": []
    },
    {
      "cell_type": "markdown",
      "metadata": {
        "id": "c45stKitUJaS",
        "colab_type": "text"
      },
      "source": [
        "Sources:\n",
        "1. https://github.com/RahulSharmaNITT/MathWordProblem\n",
        "2. https://github.com/sroy9/mawps"
      ]
    },
    {
      "cell_type": "code",
      "metadata": {
        "id": "eaz7_IZd4ejG",
        "colab_type": "code",
        "colab": {}
      },
      "source": [
        ""
      ],
      "execution_count": 0,
      "outputs": []
    }
  ]
}